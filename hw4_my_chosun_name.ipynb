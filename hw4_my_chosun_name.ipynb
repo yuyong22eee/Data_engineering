{
 "cells": [
  {
   "cell_type": "code",
   "execution_count": 1,
   "id": "6eecfd1d-5928-4f3d-a135-1f555ca80a27",
   "metadata": {},
   "outputs": [],
   "source": [
    "import pandas as pd\n",
    "import numpy as np"
   ]
  },
  {
   "cell_type": "code",
   "execution_count": 3,
   "id": "e0d8aa3e-b6f5-4434-98ac-ae7d6ac3bfd8",
   "metadata": {},
   "outputs": [],
   "source": [
    "month_name = ['쌍', '쇠', '복', '돌', '팽', '육', '쌍', '개', '칠', '갑', '삼', '방']\n",
    "date_name = ['봉', '구', '욕', '포', '똥', '삼', '식', '석', '놈', '님', '년', '돌', '단', '득', '방', '질', '장', '걸', '래', '룡', '동', '순', '자', '박', '창', '언', '것', '포', '만', '단', '국'] "
   ]
  },
  {
   "cell_type": "code",
   "execution_count": 8,
   "id": "14425fe6-0c6f-42f3-bd2b-6aa8d02b0d92",
   "metadata": {},
   "outputs": [],
   "source": [
    "def get_my_chosun_name(family_name, month, date):\n",
    "        name = family_name + month_name[month-1] + date_name[date-1]\n",
    "        name = \"당신의 조선시대 이름은 \" + name + \" 입니다.\"\n",
    "        return name"
   ]
  },
  {
   "cell_type": "code",
   "execution_count": 9,
   "id": "9639344c-90d7-4a7b-a8c3-680d1b66b8c5",
   "metadata": {},
   "outputs": [
    {
     "name": "stdout",
     "output_type": "stream",
     "text": [
      "당신의 조선시대 이름은 이방똥 입니다.\n"
     ]
    }
   ],
   "source": [
    "print(get_my_chosun_name('이', 12, 5))"
   ]
  },
  {
   "cell_type": "code",
   "execution_count": null,
   "id": "66b4b667-08ee-4072-b732-858d32dd2f95",
   "metadata": {},
   "outputs": [],
   "source": []
  }
 ],
 "metadata": {
  "kernelspec": {
   "display_name": "Python 3 (ipykernel)",
   "language": "python",
   "name": "python3"
  },
  "language_info": {
   "codemirror_mode": {
    "name": "ipython",
    "version": 3
   },
   "file_extension": ".py",
   "mimetype": "text/x-python",
   "name": "python",
   "nbconvert_exporter": "python",
   "pygments_lexer": "ipython3",
   "version": "3.9.12"
  }
 },
 "nbformat": 4,
 "nbformat_minor": 5
}
