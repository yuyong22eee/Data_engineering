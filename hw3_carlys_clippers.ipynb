{
 "cells": [
  {
   "cell_type": "code",
   "execution_count": 1,
   "id": "aa4f2b49-9797-491e-821b-5f99b41d28e4",
   "metadata": {},
   "outputs": [],
   "source": [
    "import pandas as pd\n",
    "import numpy as np"
   ]
  },
  {
   "cell_type": "code",
   "execution_count": 19,
   "id": "f464a2e2-04dc-4a4f-8f01-10da9d762482",
   "metadata": {},
   "outputs": [],
   "source": [
    "hairstyles = [\"bouffant\", \"pixie\", \"dreadlocks\", \"crew\", \"bowl\", \"bob\", \"mohawk\", \"flattop\"]\n",
    "prices = [30, 25, 40, 20, 20, 35, 50, 35]\n",
    "last_week = [2, 3, 5, 8, 4, 4, 6, 2]"
   ]
  },
  {
   "cell_type": "code",
   "execution_count": 23,
   "id": "18c91005-6095-4379-a480-2b4550fd37a9",
   "metadata": {},
   "outputs": [
    {
     "name": "stdout",
     "output_type": "stream",
     "text": [
      "255\n"
     ]
    }
   ],
   "source": [
    "total_price = 0\n",
    "total_price = sum(prices)\n",
    "print(total_price)"
   ]
  },
  {
   "cell_type": "code",
   "execution_count": 25,
   "id": "6d5cf364-eccb-4625-a0e7-5a220e18652b",
   "metadata": {},
   "outputs": [
    {
     "name": "stdout",
     "output_type": "stream",
     "text": [
      "average_price is 31.875\n"
     ]
    }
   ],
   "source": [
    "average_price = 0\n",
    "average_price = total_price / len(prices)\n",
    "print('average_price is', average_price)"
   ]
  },
  {
   "cell_type": "code",
   "execution_count": 26,
   "id": "59edb36c-ee5c-41a5-ba37-4d196b43a3f3",
   "metadata": {},
   "outputs": [
    {
     "name": "stdout",
     "output_type": "stream",
     "text": [
      "[25, 20, 35, 15, 15, 30, 45, 30]\n"
     ]
    }
   ],
   "source": [
    "new_price = prices\n",
    "new_price = [prices-5 for prices in new_price]\n",
    "print(new_price)"
   ]
  },
  {
   "cell_type": "code",
   "execution_count": 31,
   "id": "8aa4c74e-c9e1-4823-acf0-6666555e49d0",
   "metadata": {},
   "outputs": [
    {
     "name": "stdout",
     "output_type": "stream",
     "text": [
      "[60, 75, 200, 160, 80, 140, 300, 70]\n"
     ]
    }
   ],
   "source": [
    "total_revenue = 0\n",
    "total_revenue = [prices[i]*last_week[i]for i in range(len(hairstyles))]\n",
    "print(total_revenue)"
   ]
  },
  {
   "cell_type": "code",
   "execution_count": 32,
   "id": "d320da18-013c-4627-965f-ee527a6b8217",
   "metadata": {},
   "outputs": [
    {
     "name": "stdout",
     "output_type": "stream",
     "text": [
      "1085\n"
     ]
    }
   ],
   "source": [
    "result = sum(total_revenue)\n",
    "print(result)\n",
    "total_revenue = result"
   ]
  },
  {
   "cell_type": "code",
   "execution_count": 34,
   "id": "50c9a8c5-c605-48ae-9cef-3c82003ba51a",
   "metadata": {},
   "outputs": [
    {
     "name": "stdout",
     "output_type": "stream",
     "text": [
      "Average daily revenue is 155.0\n"
     ]
    }
   ],
   "source": [
    "average_daily_revenue = total_revenue / 7\n",
    "print('Average daily revenue is', average_daily_revenue)"
   ]
  },
  {
   "cell_type": "code",
   "execution_count": 37,
   "id": "83eb9e06-ed8a-4e5f-b504-da62b8796a8f",
   "metadata": {},
   "outputs": [
    {
     "name": "stdout",
     "output_type": "stream",
     "text": [
      "['bouffant', 'pixie', 'crew', 'bowl']\n"
     ]
    }
   ],
   "source": [
    "cuts_under_30 = [hairstyles[i] for i in range(len(new_price)-1) if new_price[i] < 30]\n",
    "print(cuts_under_30)"
   ]
  },
  {
   "cell_type": "code",
   "execution_count": null,
   "id": "4d5bf60d-c04f-410e-a23e-ac7310c477d1",
   "metadata": {},
   "outputs": [],
   "source": []
  }
 ],
 "metadata": {
  "kernelspec": {
   "display_name": "Python 3 (ipykernel)",
   "language": "python",
   "name": "python3"
  },
  "language_info": {
   "codemirror_mode": {
    "name": "ipython",
    "version": 3
   },
   "file_extension": ".py",
   "mimetype": "text/x-python",
   "name": "python",
   "nbconvert_exporter": "python",
   "pygments_lexer": "ipython3",
   "version": "3.9.12"
  }
 },
 "nbformat": 4,
 "nbformat_minor": 5
}
